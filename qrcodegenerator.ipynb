{
  "nbformat": 4,
  "nbformat_minor": 0,
  "metadata": {
    "colab": {
      "provenance": []
    },
    "kernelspec": {
      "name": "python3",
      "display_name": "Python 3"
    },
    "language_info": {
      "name": "python"
    }
  },
  "cells": [
    {
      "cell_type": "markdown",
      "source": [
        "QR Code Generator with Python using pillow and qrcode libraries"
      ],
      "metadata": {
        "id": "vi_-ptErJyiC"
      }
    },
    {
      "cell_type": "code",
      "execution_count": 2,
      "metadata": {
        "id": "waM-5912GvBV",
        "colab": {
          "base_uri": "https://localhost:8080/"
        },
        "outputId": "dfe83f46-bc5a-459e-bcc1-08bddb56b5bf"
      },
      "outputs": [
        {
          "output_type": "stream",
          "name": "stdout",
          "text": [
            "Looking in indexes: https://pypi.org/simple, https://us-python.pkg.dev/colab-wheels/public/simple/\n",
            "Requirement already satisfied: pillow in /usr/local/lib/python3.7/dist-packages (7.1.2)\n"
          ]
        }
      ],
      "source": [
        "pip install pillow"
      ]
    },
    {
      "cell_type": "code",
      "source": [
        "pip install qrcode"
      ],
      "metadata": {
        "colab": {
          "base_uri": "https://localhost:8080/"
        },
        "id": "rd1DLKS3IrZw",
        "outputId": "15ff1517-ae6c-4f2d-835a-6661c34572c4"
      },
      "execution_count": 3,
      "outputs": [
        {
          "output_type": "stream",
          "name": "stdout",
          "text": [
            "Looking in indexes: https://pypi.org/simple, https://us-python.pkg.dev/colab-wheels/public/simple/\n",
            "Collecting qrcode\n",
            "  Downloading qrcode-7.3.1.tar.gz (43 kB)\n",
            "\u001b[K     |████████████████████████████████| 43 kB 1.2 MB/s \n",
            "\u001b[?25hBuilding wheels for collected packages: qrcode\n",
            "  Building wheel for qrcode (setup.py) ... \u001b[?25l\u001b[?25hdone\n",
            "  Created wheel for qrcode: filename=qrcode-7.3.1-py3-none-any.whl size=40400 sha256=3a90053ab1dc8c9be31623035acffa0063be54f08e5de41c8a5601aa905ea886\n",
            "  Stored in directory: /root/.cache/pip/wheels/93/d7/39/a4111be2cfb8e679938aa671a37888b6afb1f9e7d748e94492\n",
            "Successfully built qrcode\n",
            "Installing collected packages: qrcode\n",
            "Successfully installed qrcode-7.3.1\n"
          ]
        }
      ]
    },
    {
      "cell_type": "code",
      "source": [
        "import qrcode\n",
        "# Link of the website\n",
        "link = \"https://www.python.org/\"\n",
        "#Creating an instance of qrcode\n",
        "qr = qrcode.QRCode(\n",
        "        version=1,\n",
        "        box_size=10,\n",
        "        border=5)\n",
        "qr.add_data(link)\n",
        "qr.make(fit=True)\n",
        "img = qr.make_image(fill='red', back_color='blue')\n",
        "img.save('qrcode001.png')"
      ],
      "metadata": {
        "id": "dvcxWkQ5I-i6"
      },
      "execution_count": 5,
      "outputs": []
    },
    {
      "cell_type": "markdown",
      "source": [
        "we can change backgroung and fill colour and the size of the qrcode box \n",
        "\n",
        "the created qr code will direct us to the page defined at the link when red"
      ],
      "metadata": {
        "id": "ae6Mk4zaKRvv"
      }
    }
  ]
}